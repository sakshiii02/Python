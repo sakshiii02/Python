{
 "cells": [
  {
   "cell_type": "code",
   "execution_count": 1,
   "id": "18e84032",
   "metadata": {},
   "outputs": [],
   "source": [
    "import turtle\n",
    "#Importing Turtle library for basic graphic\n",
    "\n",
    "#Black background Screen \n",
    "wd = turtle.Screen()\n",
    "wd.title(\"Ping Pong - Sakshi\")\n",
    "wd.bgcolor('white')\n",
    "wd.setup(width=800, height=600)\n",
    "wd.tracer(0)"
   ]
  },
  {
   "cell_type": "code",
   "execution_count": 2,
   "id": "1253480e",
   "metadata": {},
   "outputs": [],
   "source": [
    "# player A\n",
    "play_a=turtle.Turtle()\n",
    "play_a.speed(0)#Animation speed (max)\n",
    "play_a.shape('square')\n",
    "play_a.color('yellow')\n",
    "play_a.shapesize(stretch_wid=5, stretch_len=1)\n",
    "play_a.penup()\n",
    "play_a.goto(-350, 0)"
   ]
  },
  {
   "cell_type": "code",
   "execution_count": 3,
   "id": "4bdc4de2",
   "metadata": {},
   "outputs": [],
   "source": [
    "# player B\n",
    "play_b = turtle.Turtle()\n",
    "play_b.speed(0)#Animation speed (max)\n",
    "play_b.shape('square')\n",
    "play_b.color('blue')\n",
    "play_b.shapesize(stretch_wid=5, stretch_len=1)\n",
    "play_b.penup()\n",
    "play_b.goto(+350, 0)"
   ]
  },
  {
   "cell_type": "code",
   "execution_count": 4,
   "id": "04e1152c",
   "metadata": {},
   "outputs": [],
   "source": [
    "# ball\n",
    "p_ball=turtle.Turtle()\n",
    "p_ball.speed(0)#Animation speed (max)\n",
    "p_ball.shape('square')\n",
    "p_ball.color('black')\n",
    "p_ball.penup()\n",
    "p_ball.goto(0, 0)\n",
    "p_ball.dx=0.3#To make our ball move\n",
    "p_ball.dy=-0.3"
   ]
  },
  {
   "cell_type": "code",
   "execution_count": 5,
   "id": "3e963b69",
   "metadata": {},
   "outputs": [],
   "source": [
    "#pen\n",
    "pen = turtle.Turtle()\n",
    "pen.speed(0)#Animation speed\n",
    "pen.color('red')\n",
    "pen.penup()\n",
    "pen.hideturtle()\n",
    "pen.goto(0, 260)\n",
    "#pen.write(\"Player A: 0 Player B: 0\",align='center',font=('Times New Roman',24,'normal'))"
   ]
  },
  {
   "cell_type": "code",
   "execution_count": 6,
   "id": "e69de76a",
   "metadata": {},
   "outputs": [],
   "source": [
    "#Function to move player A up and Down\n",
    "def play_a_up():\n",
    "    y = play_a.ycor()#Returns turtle's y co-ord\n",
    "    y += 15#Add 15 pixels to y\n",
    "    play_a.sety(y)\n",
    "\n",
    "def play_a_down():\n",
    "    y = play_a.ycor()#Returns turtle's y co-ord\n",
    "    y -= 15#subtract 15 pixels to y\n",
    "    play_a.sety(y)"
   ]
  },
  {
   "cell_type": "code",
   "execution_count": 7,
   "id": "5be1c854",
   "metadata": {},
   "outputs": [],
   "source": [
    "#Function to move player B up and Down\n",
    "def play_b_up():\n",
    "    y = play_b.ycor()#Returns turtle's y co-ord\n",
    "    y += 15#Add 15 pixels to y\n",
    "    play_b.sety(y)\n",
    "\n",
    "def play_b_down():\n",
    "    y = play_b.ycor()#Returns turtle's y co-ord\n",
    "    y -= 15#subtract 15 pixels to y\n",
    "    play_b.sety(y)"
   ]
  },
  {
   "cell_type": "code",
   "execution_count": 8,
   "id": "571b2b58",
   "metadata": {},
   "outputs": [],
   "source": [
    "#Keyboard binding\n",
    "wd.listen()\n",
    "wd.onkeypress(play_a_up, \"w\")\n",
    "wd.onkeypress(play_a_down, \"s\")\n",
    "wd.onkeypress(play_b_up, \"Up\")\n",
    "wd.onkeypress(play_b_down, \"Down\")"
   ]
  },
  {
   "cell_type": "code",
   "execution_count": null,
   "id": "ebaf3e91",
   "metadata": {},
   "outputs": [],
   "source": [
    "#Game loop\n",
    "while True:\n",
    "    wd.update()\n",
    "\n",
    "    #Move the ball\n",
    "    p_ball.setx(p_ball.xcor()+p_ball.dx)\n",
    "    p_ball.sety(p_ball.ycor()+p_ball.dy)\n",
    "\n",
    "    #Top Border\n",
    "    # Comparing balls y co-ordinate\n",
    "    if p_ball.ycor() > 290:\n",
    "        p_ball.sety(290)\n",
    "        p_ball.dy *=-1 \n",
    "\n",
    "    #Bottom Border\n",
    "    if p_ball.ycor() < -290:\n",
    "        p_ball.sety(-290)\n",
    "        p_ball.dy *=-1\n",
    "\n",
    "    #Left Border \n",
    "    if p_ball.xcor() > 390:\n",
    "        p_ball.goto(0,0)\n",
    "        p_ball.dx *=-1\n",
    "\n",
    "    #Right Border \n",
    "    if p_ball.xcor() < -390:\n",
    "        p_ball.goto(0,0)\n",
    "        p_ball.dx *=-1 \n",
    "\n",
    "    #Playing with ball\n",
    "    #Right player\n",
    "    if (p_ball.xcor() > 340 and p_ball.xcor() < 350) and (p_ball.ycor() < play_b.ycor() + 40 and p_ball.ycor()> p_ball.ycor() - 40):\n",
    "        p_ball.setx(340)\n",
    "        p_ball.dx *= -1\n",
    "\n",
    "    #Left player\n",
    "    if (p_ball.xcor()<-340 and p_ball.xcor() >- 350) and (p_ball.ycor() < play_a.ycor() + 40 and p_ball.ycor()> p_ball.ycor() - 40):\n",
    "        p_ball.setx(-340)\n",
    "        p_ball.dx *= -1"
   ]
  },
  {
   "cell_type": "code",
   "execution_count": null,
   "id": "8d0763ca",
   "metadata": {},
   "outputs": [],
   "source": []
  }
 ],
 "metadata": {
  "kernelspec": {
   "display_name": "Python 3 (ipykernel)",
   "language": "python",
   "name": "python3"
  },
  "language_info": {
   "codemirror_mode": {
    "name": "ipython",
    "version": 3
   },
   "file_extension": ".py",
   "mimetype": "text/x-python",
   "name": "python",
   "nbconvert_exporter": "python",
   "pygments_lexer": "ipython3",
   "version": "3.10.9"
  }
 },
 "nbformat": 4,
 "nbformat_minor": 5
}
