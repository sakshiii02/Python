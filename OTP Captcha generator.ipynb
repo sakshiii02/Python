{
 "cells": [
  {
   "cell_type": "code",
   "execution_count": 1,
   "id": "09f4d30d",
   "metadata": {},
   "outputs": [],
   "source": [
    "import math\n",
    "import random"
   ]
  },
  {
   "cell_type": "code",
   "execution_count": 6,
   "id": "3103dc39",
   "metadata": {},
   "outputs": [],
   "source": [
    "def OTPGenerator():\n",
    "    d1='0123456789'\n",
    "    OTP=''\n",
    "    for i in range(4):\n",
    "        OTP+=d1[math.floor(random.random()*10)]\n",
    "    return 'Your one time OTP is:',OTP"
   ]
  },
  {
   "cell_type": "code",
   "execution_count": 7,
   "id": "a5d4d454",
   "metadata": {},
   "outputs": [
    {
     "data": {
      "text/plain": [
       "('Your one time OTP is:', '8185')"
      ]
     },
     "execution_count": 7,
     "metadata": {},
     "output_type": "execute_result"
    }
   ],
   "source": [
    "OTPGenerator()"
   ]
  },
  {
   "cell_type": "code",
   "execution_count": 8,
   "id": "1649156b",
   "metadata": {},
   "outputs": [],
   "source": [
    "def captchaGenerator():\n",
    "    str1='!@#$%^&*()_+{}[]=:;~\\|\"ABCDEFGHIJKLMNOPQRSTUVWXYZ0123456789abcdefghijklmnopqrstuvwxyz'\n",
    "    cpt=''\n",
    "    length=len(str1)\n",
    "    for i in range(6):\n",
    "        cpt+=str1[math.floor(random.random()*length)]\n",
    "    return 'Your one time captcha is:',cpt"
   ]
  },
  {
   "cell_type": "code",
   "execution_count": 9,
   "id": "6cbe0144",
   "metadata": {},
   "outputs": [
    {
     "data": {
      "text/plain": [
       "('Your one time captcha is:', 'QZpk+u')"
      ]
     },
     "execution_count": 9,
     "metadata": {},
     "output_type": "execute_result"
    }
   ],
   "source": [
    "captchaGenerator()"
   ]
  },
  {
   "cell_type": "code",
   "execution_count": null,
   "id": "0757b425",
   "metadata": {},
   "outputs": [],
   "source": []
  }
 ],
 "metadata": {
  "kernelspec": {
   "display_name": "Python 3 (ipykernel)",
   "language": "python",
   "name": "python3"
  },
  "language_info": {
   "codemirror_mode": {
    "name": "ipython",
    "version": 3
   },
   "file_extension": ".py",
   "mimetype": "text/x-python",
   "name": "python",
   "nbconvert_exporter": "python",
   "pygments_lexer": "ipython3",
   "version": "3.10.9"
  }
 },
 "nbformat": 4,
 "nbformat_minor": 5
}
